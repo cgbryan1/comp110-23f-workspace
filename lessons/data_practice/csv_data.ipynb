{
 "cells": [
  {
   "cell_type": "markdown",
   "metadata": {},
   "source": [
    "# Working with CSV Files\n",
    "\n",
    "First, enable auto-reload for any modules we're importing."
   ]
  },
  {
   "cell_type": "code",
   "execution_count": 1,
   "metadata": {},
   "outputs": [
    {
     "name": "stdout",
     "output_type": "stream",
     "text": [
      "Autoreloading of modules completed\n"
     ]
    }
   ],
   "source": [
    "%reload_ext autoreload\n",
    "%autoreload 2\n",
    "print(\"Autoreloading of modules completed\")"
   ]
  },
  {
   "cell_type": "markdown",
   "metadata": {},
   "source": [
    "## Reading a csv file"
   ]
  },
  {
   "cell_type": "code",
   "execution_count": 2,
   "metadata": {},
   "outputs": [],
   "source": [
    "from data_utils import read_csv_rows\n",
    "\n",
    "# the ../ backs you out and lets you go to another file/foler/area\n",
    "filename: str = \"../../data/weather.csv\"\n",
    "data: list[dict[str, str]] = read_csv_rows(filename)"
   ]
  },
  {
   "cell_type": "code",
   "execution_count": 3,
   "metadata": {},
   "outputs": [
    {
     "name": "stdout",
     "output_type": "stream",
     "text": [
      "['75', '72', '72']\n"
     ]
    },
    {
     "data": {
      "text/plain": [
       "{'Day': ['Monday', 'Tuesday', 'Wednesday'],\n",
       " 'Low': ['56', '53', '50'],\n",
       " 'High': ['75', '72', '72']}"
      ]
     },
     "execution_count": 3,
     "metadata": {},
     "output_type": "execute_result"
    }
   ],
   "source": [
    "from data_utils import column_vals\n",
    "from data_utils import columnar\n",
    "\n",
    "print(column_vals(data, \"High\"))\n",
    "\n",
    "d: list[dict[str,str]] = [{'Day': 'Monday', 'Low': '56', 'High': '75'}, {'Day': 'Tuesday', 'Low': '53', 'High': '72'}, {'Day': 'Wednesday', 'Low': '50', 'High': '72'}]\n",
    "columnar(d)"
   ]
  },
  {
   "cell_type": "code",
   "execution_count": 4,
   "metadata": {},
   "outputs": [
    {
     "data": {
      "text/html": [
       "<table>\n",
       "<thead>\n",
       "<tr><th>Day      </th><th style=\"text-align: right;\">  Low</th><th style=\"text-align: right;\">  High</th></tr>\n",
       "</thead>\n",
       "<tbody>\n",
       "<tr><td>Monday   </td><td style=\"text-align: right;\">   56</td><td style=\"text-align: right;\">    75</td></tr>\n",
       "<tr><td>Tuesday  </td><td style=\"text-align: right;\">   53</td><td style=\"text-align: right;\">    72</td></tr>\n",
       "<tr><td>Wednesday</td><td style=\"text-align: right;\">   50</td><td style=\"text-align: right;\">    72</td></tr>\n",
       "</tbody>\n",
       "</table>"
      ],
      "text/plain": [
       "'<table>\\n<thead>\\n<tr><th>Day      </th><th style=\"text-align: right;\">  Low</th><th style=\"text-align: right;\">  High</th></tr>\\n</thead>\\n<tbody>\\n<tr><td>Monday   </td><td style=\"text-align: right;\">   56</td><td style=\"text-align: right;\">    75</td></tr>\\n<tr><td>Tuesday  </td><td style=\"text-align: right;\">   53</td><td style=\"text-align: right;\">    72</td></tr>\\n<tr><td>Wednesday</td><td style=\"text-align: right;\">   50</td><td style=\"text-align: right;\">    72</td></tr>\\n</tbody>\\n</table>'"
      ]
     },
     "execution_count": 4,
     "metadata": {},
     "output_type": "execute_result"
    }
   ],
   "source": [
    "from data_utils import columnar\n",
    "from tabulate import tabulate\n",
    " \n",
    "column_data: dict[str,list[str]] = columnar(data)\n",
    "tabulate(column_data, column_data.keys(), \"html\")"
   ]
  }
 ],
 "metadata": {
  "kernelspec": {
   "display_name": "Python 3",
   "language": "python",
   "name": "python3"
  },
  "language_info": {
   "codemirror_mode": {
    "name": "ipython",
    "version": 3
   },
   "file_extension": ".py",
   "mimetype": "text/x-python",
   "name": "python",
   "nbconvert_exporter": "python",
   "pygments_lexer": "ipython3",
   "version": "3.11.4"
  },
  "orig_nbformat": 4
 },
 "nbformat": 4,
 "nbformat_minor": 2
}
