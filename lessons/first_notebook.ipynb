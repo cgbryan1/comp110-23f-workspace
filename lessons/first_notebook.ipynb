{
 "cells": [
  {
   "cell_type": "markdown",
   "metadata": {},
   "source": [
    "# Intro to Jupytr Notebooks\n",
    "Here I will demonstrae some functionality of jupyter notebooks."
   ]
  },
  {
   "cell_type": "markdown",
   "metadata": {},
   "source": [
    "## Running Python\n",
    "\n",
    "* Create a Python cell by pressing` +code`\n",
    "* Always prints the expression on the last line"
   ]
  },
  {
   "cell_type": "code",
   "execution_count": 3,
   "metadata": {},
   "outputs": [
    {
     "name": "stdout",
     "output_type": "stream",
     "text": [
      "Alyssa\n"
     ]
    }
   ],
   "source": [
    "person: str = \"Alyssa\" # try changing variable name and see what happens\n",
    "print(person)"
   ]
  },
  {
   "cell_type": "markdown",
   "metadata": {},
   "source": [
    "## Variables\n",
    "\n",
    "* Variables can be used between cells\n",
    "* `Restart` clears variables/memory\n",
    "* Must run cell where variable is defined before running cell that uses variable."
   ]
  },
  {
   "cell_type": "code",
   "execution_count": null,
   "metadata": {},
   "outputs": [],
   "source": [
    "print(f\"Howdy, {person}!\")"
   ]
  },
  {
   "cell_type": "markdown",
   "metadata": {},
   "source": [
    "## Making changes and Re-Opening a Notebook\n",
    "\n",
    "0. (If making changes.) Save!\n",
    "1. Restart the kernel.\n",
    "2. Clear All Outputs.\n",
    "3. Run All."
   ]
  },
  {
   "cell_type": "markdown",
   "metadata": {},
   "source": [
    "## Importing functions\n",
    "\n",
    "* You ca import functions in Jupyter notebooks like you do in other Python files!"
   ]
  },
  {
   "cell_type": "code",
   "execution_count": null,
   "metadata": {},
   "outputs": [],
   "source": [
    "from my_functions import addition\n",
    "\n",
    "addition(2,3)"
   ]
  }
 ],
 "metadata": {
  "kernelspec": {
   "display_name": "Python 3",
   "language": "python",
   "name": "python3"
  },
  "language_info": {
   "codemirror_mode": {
    "name": "ipython",
    "version": 3
   },
   "file_extension": ".py",
   "mimetype": "text/x-python",
   "name": "python",
   "nbconvert_exporter": "python",
   "pygments_lexer": "ipython3",
   "version": "3.11.4"
  },
  "orig_nbformat": 4
 },
 "nbformat": 4,
 "nbformat_minor": 2
}
